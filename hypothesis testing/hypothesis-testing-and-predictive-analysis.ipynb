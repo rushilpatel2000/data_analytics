{
 "cells": [
  {
   "cell_type": "markdown",
   "metadata": {
    "_cell_guid": "2e392be2-f09d-7083-84c3-87877ead3963"
   },
   "source": [
    " **Hypothesis testing** methods such as <br>\n",
    "1.  **Normal Distribution**<br>\n",
    "2. **Student t Distribution**<br>\n",
    "3. **ANOVA**<br>\n",
    "\n",
    "Dataset : Payroll Dataset (https://www.kaggle.com/datasets/cityofLA/city-payroll-data)\n"
   ]
  },
  {
   "cell_type": "code",
   "execution_count": 25,
   "metadata": {
    "_cell_guid": "3ef82d69-83cd-8ce5-49da-98d3760ba1f3"
   },
   "outputs": [],
   "source": [
    "%matplotlib inline\n",
    "import pandas as pd\n",
    "import numpy as np\n",
    "import statistics\n",
    "import seaborn as sns\n",
    "import matplotlib.pyplot as plt\n",
    "from subprocess import check_output\n",
    "#print(check_output([\"ls\", \"../input\"]).decode(\"utf8\"))\n",
    "from scipy import stats\n",
    "import sklearn\n",
    "from sklearn import metrics"
   ]
  },
  {
   "cell_type": "code",
   "execution_count": 6,
   "metadata": {
    "_cell_guid": "aaa9b895-2309-9dd4-121b-05e2278187bd"
   },
   "outputs": [
    {
     "name": "stderr",
     "output_type": "stream",
     "text": [
      "<ipython-input-6-16d328c9df25>:1: DtypeWarning: Columns (4,24,28) have mixed types. Specify dtype option on import or set low_memory=False.\n",
      "  payroll = pd.read_csv(\"data.csv\")\n"
     ]
    }
   ],
   "source": [
    "payroll = pd.read_csv(\"data.csv\")"
   ]
  },
  {
   "cell_type": "markdown",
   "metadata": {
    "_cell_guid": "22cbceb4-cca4-9fe1-82e9-667a35f7b655"
   },
   "source": [
    "**Data Cleansing**"
   ]
  },
  {
   "cell_type": "code",
   "execution_count": 7,
   "metadata": {
    "_cell_guid": "9c8a29ff-6f6b-6156-8cbc-32ab3ca32ad5"
   },
   "outputs": [],
   "source": [
    "payroll = payroll[pd.notnull(payroll['Payroll Department'])]\n",
    "payroll.rename(columns={'Projected Annual Salary' : 'Annual_sal'}, inplace = True)\n",
    "payroll.rename(columns={'Job Class Title' : 'Job_title'}, inplace = True)\n",
    "payroll.rename(columns={'Base Pay' : 'Base_Pay'}, inplace = True)"
   ]
  },
  {
   "cell_type": "code",
   "execution_count": 8,
   "metadata": {
    "_cell_guid": "14c499e4-c66b-d358-1c78-c40e5ef5948b"
   },
   "outputs": [
    {
     "name": "stderr",
     "output_type": "stream",
     "text": [
      "<ipython-input-8-fa788f9d8982>:5: FutureWarning: The default value of regex will change from True to False in a future version. In addition, single character regular expressions will *not* be treated as literal strings when regex=True.\n",
      "  payroll[i] = payroll[i].str.replace('$','')\n"
     ]
    }
   ],
   "source": [
    "for i in ['Annual_sal','Q1 Payments','Q2 Payments','Q3 Payments','Q4 Payments','Payments Over Base Pay',\n",
    "          'Total Payments','Base_Pay','Permanent Bonus Pay','Longevity Bonus Pay','Temporary Bonus Pay','Overtime Pay',\n",
    "          'Other Pay & Adjustments','Other Pay (Payroll Explorer)','Average Health Cost','Average Dental Cost',\n",
    "          'Average Basic Life','Average Benefit Cost']:\n",
    "    payroll[i] = payroll[i].str.replace('$','')"
   ]
  },
  {
   "cell_type": "markdown",
   "metadata": {
    "_cell_guid": "c6862512-0f12-d11f-9dfb-5ed1b6b5350d"
   },
   "source": [
    "**Outlier removal**"
   ]
  },
  {
   "cell_type": "code",
   "execution_count": 9,
   "metadata": {
    "_cell_guid": "af8308fc-8a70-a7be-92c5-c16f1a2f30cf"
   },
   "outputs": [],
   "source": [
    "payroll = payroll[payroll.Annual_sal != 0]  \n",
    "payroll = payroll[payroll.Base_Pay != 0]\n",
    "payroll.Annual_sal = payroll.Annual_sal.astype(float)\n",
    "payroll.Base_Pay = payroll.Base_Pay.astype(float)"
   ]
  },
  {
   "cell_type": "code",
   "execution_count": 10,
   "metadata": {
    "_cell_guid": "8d21c2cb-5cd0-6029-c73c-16d81168c93b"
   },
   "outputs": [
    {
     "name": "stderr",
     "output_type": "stream",
     "text": [
      "<ipython-input-10-e766d3b9e6e5>:2: UserWarning: \n",
      "\n",
      "`distplot` is a deprecated function and will be removed in seaborn v0.14.0.\n",
      "\n",
      "Please adapt your code to use either `displot` (a figure-level function with\n",
      "similar flexibility) or `histplot` (an axes-level function for histograms).\n",
      "\n",
      "For a guide to updating your code to use the new functions, please see\n",
      "https://gist.github.com/mwaskom/de44147ed2974457ad6372750bbe5751\n",
      "\n",
      "  sns.distplot(payroll.Annual_sal,color = 'darkgreen')\n"
     ]
    },
    {
     "data": {
      "text/plain": [
       "<AxesSubplot:xlabel='Annual_sal', ylabel='Density'>"
      ]
     },
     "execution_count": 10,
     "metadata": {},
     "output_type": "execute_result"
    },
    {
     "data": {
      "image/png": "[encoded data removed]",
      "text/plain": [
       "<Figure size 864x432 with 1 Axes>"
      ]
     },
     "metadata": {
      "needs_background": "light"
     },
     "output_type": "display_data"
    }
   ],
   "source": [
    "plt.figure(figsize = (12,6))\n",
    "sns.distplot(payroll.Annual_sal,color = 'darkgreen')"
   ]
  },
  {
   "cell_type": "markdown",
   "metadata": {
    "_cell_guid": "641b8314-8549-4161-d70c-8929d0ff1028"
   },
   "source": [
    "**Creating different Sample  from the population**"
   ]
  },
  {
   "cell_type": "code",
   "execution_count": 11,
   "metadata": {
    "_cell_guid": "8c5a578a-06c6-9db9-30db-95a9ad7d7c55"
   },
   "outputs": [],
   "source": [
    "payroll_2015 = payroll[payroll.Year ==2015]\n",
    "payroll_2016 = payroll[payroll.Year ==2016]"
   ]
  },
  {
   "cell_type": "markdown",
   "metadata": {
    "_cell_guid": "7e402c97-0a74-fad3-7343-cd64719400a4"
   },
   "source": [
    "**Calculating the Population Parameters**"
   ]
  },
  {
   "cell_type": "code",
   "execution_count": 12,
   "metadata": {
    "_cell_guid": "78af4e8c-b491-1802-26e9-f28fd8218fe1"
   },
   "outputs": [
    {
     "name": "stdout",
     "output_type": "stream",
     "text": [
      "Population Mean: 76046.39152504776\n",
      "Population Standard Deviation: 34232.25489729045\n"
     ]
    }
   ],
   "source": [
    "pop_mean_2015 = payroll_2015['Annual_sal'].mean()\n",
    "pop_std_2015 = statistics.stdev(payroll_2015.Annual_sal)\n",
    "print(\"Population Mean: \"+str(pop_mean_2015))\n",
    "print(\"Population Standard Deviation: \"+str(pop_std_2015))"
   ]
  },
  {
   "cell_type": "markdown",
   "metadata": {
    "_cell_guid": "f7fc0bb7-c6b2-ec72-e56c-e9428fa67f8f"
   },
   "source": [
    "**Calculating the Sample Parameters**"
   ]
  },
  {
   "cell_type": "code",
   "execution_count": 13,
   "metadata": {
    "_cell_guid": "59bd0435-89ef-e041-343b-8b64d2d82c3c"
   },
   "outputs": [
    {
     "name": "stdout",
     "output_type": "stream",
     "text": [
      "Population Mean: 78711.19987224769\n",
      "Sample Mean: 78736.1397429306\n",
      "Sample Standard Deviation: 33656.13115686943\n"
     ]
    }
   ],
   "source": [
    "print(\"Population Mean: \"+str(payroll_2016['Annual_sal'].mean()))\n",
    "payroll_2016_sample = payroll_2016.sample(frac=0.10)\n",
    "sample_mean_2016 = payroll_2016_sample['Annual_sal'].mean()\n",
    "print(\"Sample Mean: \"+str(sample_mean_2016))\n",
    "sample_std_2016 = statistics.stdev(payroll_2016_sample.Annual_sal)\n",
    "print(\"Sample Standard Deviation: \"+str(sample_std_2016))"
   ]
  },
  {
   "cell_type": "markdown",
   "metadata": {
    "_cell_guid": "128407af-dcf5-5092-1529-41fdc4859db9"
   },
   "source": [
    "**Hypothesis Testing**"
   ]
  },
  {
   "cell_type": "markdown",
   "metadata": {
    "_cell_guid": "6e981fd5-2b23-a17a-a4cb-edbdb9f5fefd"
   },
   "source": [
    "<b>Normal distribution</b><br><br>\n",
    "<b>Null Hypothesis</b> : Pay does not increase in 2016<br>\n",
    "<b>Alternate Hypothesis</b>: It increases<br>\n",
    "<b>Population parameters</b>: Mean = pop_mean_2015, standard deviation = pop_std_2015<br>\n",
    "<b>Sample parameters</b> :   Mean = sample_mean_2016, standard deviation = sample_std_2016<br>"
   ]
  },
  {
   "cell_type": "code",
   "execution_count": 15,
   "metadata": {
    "_cell_guid": "4b09beb1-4545-3921-ffdb-1e02108cbf84"
   },
   "outputs": [
    {
     "name": "stdout",
     "output_type": "stream",
     "text": [
      "7.546272207087888\n"
     ]
    }
   ],
   "source": [
    "import math\n",
    "# Confidence Level 95 %  for one sided Normal curve\n",
    "alpha = 0.05\n",
    "zscore_critical = 1.65 \n",
    "# Calculate the test statistics \n",
    "zscore_test_stat = ((sample_mean_2016 - pop_mean_2015)*math.sqrt(8916))/sample_std_2016\n",
    "print(zscore_test_stat)"
   ]
  },
  {
   "cell_type": "markdown",
   "metadata": {
    "_cell_guid": "c1172db8-c85a-481d-8239-540955253c68"
   },
   "source": [
    "<b>Conclusion</b>: As the test statistics fall into the rejection region the null hypothesis is rejected<br>\n",
    "and it can be concluded that the Annual salaries increase in 2016.<br>\n",
    "However, we will first check for the <b>Type 1</b> and <b>Type 2 </b>Errors"
   ]
  },
  {
   "cell_type": "markdown",
   "metadata": {
    "_cell_guid": "b95bd9c7-51fd-175e-c14f-1ea22adedfaf"
   },
   "source": [
    "**Type 1 type 2 hypothesis error**<br>\n",
    "In statistical hypothesis testing, a type I error is the incorrect rejection of a true null hypothesis (a \"false positive\"), while a type II error is incorrectly retaining a false null hypothesis (a \"false negative\")."
   ]
  },
  {
   "cell_type": "code",
   "execution_count": 16,
   "metadata": {
    "_cell_guid": "9d0e2a9b-0305-7451-923a-45f7a2a7a56a"
   },
   "outputs": [
    {
     "name": "stdout",
     "output_type": "stream",
     "text": [
      "0.07937359898023319\n"
     ]
    }
   ],
   "source": [
    "# we are basically checking the true value of the population characteristics\n",
    "pop_mean_2016 = payroll_2016['Annual_sal'].mean()\n",
    "pop_std_2016 = statistics.stdev(payroll_2016.Annual_sal)\n",
    "\n",
    "zscore_error = ((pop_mean_2016 - pop_mean_2015)/pop_std_2016)\n",
    "print(zscore_error)"
   ]
  },
  {
   "cell_type": "markdown",
   "metadata": {
    "_cell_guid": "f052b395-0e00-51b0-12ed-466474c59963"
   },
   "source": [
    "We can clearly see that we encountered a Type 1 error as the population mean is well within acceptable region"
   ]
  },
  {
   "cell_type": "markdown",
   "metadata": {
    "_cell_guid": "3d8a94fb-41f1-08ad-9ad4-3ba03f2f14ba"
   },
   "source": [
    "**Student T-distribution**<br>\n",
    "**Null Hypothesis**: pay does not increase in 2016<br>\n",
    "**Alternate Hypothesis**: it increases<br>\n",
    "**Population parameters**: Mean = pop_mean_2015, standard deviation = pop_std_2015<br>\n",
    "**Sample parameters** : Mean = sample_mean_2016, standard deviation = sample_std_2016<br>"
   ]
  },
  {
   "cell_type": "code",
   "execution_count": 17,
   "metadata": {
    "_cell_guid": "30cec429-224a-6591-fb91-45fa911890fc"
   },
   "outputs": [],
   "source": [
    "#Calculating the Sample Parameters**\n",
    "payroll_2014 = payroll[payroll.Year ==2014]\n",
    "payroll_2015 = payroll[payroll.Year ==2015]\n",
    "# Creating Sample distribution for T statistics\n",
    "payroll_t_2015_sample = payroll_2015.sample(frac=0.00062)"
   ]
  },
  {
   "cell_type": "code",
   "execution_count": 18,
   "metadata": {
    "_cell_guid": "e4159db7-02aa-a0f3-37c0-f6c632decf0a"
   },
   "outputs": [],
   "source": [
    "payroll_t_2015_sample = payroll_2015.sample(frac=0.00062)\n",
    "N = len(payroll_t_2015_sample)\n",
    "sample_mean_2015 = payroll_t_2015_sample['Annual_sal'].mean()\n",
    "sample_std_2015 = statistics.stdev(payroll_t_2015_sample.Annual_sal)\n",
    "pop_std_2014  = statistics.stdev(payroll_2014.Annual_sal)\n",
    "pop_mean_2014 = payroll_2014['Annual_sal'].mean()"
   ]
  },
  {
   "cell_type": "code",
   "execution_count": 19,
   "metadata": {
    "_cell_guid": "f4505916-91db-2189-4097-43f567b5c583"
   },
   "outputs": [
    {
     "name": "stdout",
     "output_type": "stream",
     "text": [
      "-1.3184606402040373\n"
     ]
    }
   ],
   "source": [
    "# Confidence Level 95 %  for one sided T curve\n",
    "t_critical = 1.311\n",
    "\n",
    "# Calculate the test statistics \n",
    "tscore_test_stat = ((sample_mean_2015 - pop_mean_2014)*math.sqrt(N))/sample_std_2015\n",
    "\n",
    "print(tscore_test_stat)"
   ]
  },
  {
   "cell_type": "markdown",
   "metadata": {
    "_cell_guid": "04e74bc0-16a9-d53e-2dbf-938f7a988a42"
   },
   "source": [
    "Depending on the Test score , we can accept/Reject the Null"
   ]
  },
  {
   "cell_type": "markdown",
   "metadata": {
    "_cell_guid": "0fba82e3-0385-ba19-15a1-8287a02521c1"
   },
   "source": [
    "**** F Distribution and ANOVA**"
   ]
  },
  {
   "cell_type": "markdown",
   "metadata": {
    "_cell_guid": "0daafdb7-aeba-e8c1-0e51-4e751cf05dac"
   },
   "source": [
    "The means from three different samples are compared using ANOVA<br>\n",
    "It is similar to applying t-tests over multiple sample\n",
    "ANOVA : https://statistics.laerd.com/statistical-guides/one-way-anova-statistical-guide.php"
   ]
  },
  {
   "cell_type": "code",
   "execution_count": 20,
   "metadata": {
    "_cell_guid": "d1ad5c0f-1081-aaf0-c2a4-440c6b7320e0"
   },
   "outputs": [
    {
     "name": "stdout",
     "output_type": "stream",
     "text": [
      "Sample Mean 2014 70809.73542857142\n",
      "Sample Mean 2015 70892.46914285714\n",
      "Sample Mean 2016 32784.19571428571\n"
     ]
    }
   ],
   "source": [
    "payroll_2014 = payroll[payroll.Year ==2014]\n",
    "payroll_2014_elec = payroll_2014[payroll_2014.Job_title == 'Electrician']\n",
    "payroll_2015_elec = payroll_2015[payroll_2015.Job_title == 'Electrician']\n",
    "payroll_2016_elec = payroll_2016[payroll_2016.Job_title == 'Electrician']\n",
    "sample_elec_2014 = payroll_2014_elec.sample(frac=0.47)\n",
    "sample_elec_mean_2014 = sample_elec_2014['Base_Pay'].mean()\n",
    "print(\"Sample Mean 2014 \"+str(sample_elec_mean_2014))\n",
    "sample_elec_2015 = payroll_2015_elec.sample(frac=0.41)\n",
    "sample_elec_mean_2015 = sample_elec_2015['Base_Pay'].mean()\n",
    "print(\"Sample Mean 2015 \"+str(sample_elec_mean_2015))\n",
    "sample_elec_2016 = payroll_2016_elec.sample(frac=0.22)\n",
    "sample_elec_mean_2016 = sample_elec_2016['Base_Pay'].mean()\n",
    "print(\"Sample Mean 2016 \"+str(sample_elec_mean_2016))\n",
    "# Creating the Samples of the base pays over three years\n",
    "sam_1 = sample_elec_2014.Base_Pay\n",
    "sam_2 = sample_elec_2015.Base_Pay\n",
    "sam_3 = sample_elec_2016.Base_Pay"
   ]
  },
  {
   "cell_type": "markdown",
   "metadata": {
    "_cell_guid": "6c0f7e3e-d2eb-18cb-d14d-c8b45ef950ec"
   },
   "source": [
    "**Calculating the test statistics**"
   ]
  },
  {
   "cell_type": "code",
   "execution_count": 24,
   "metadata": {
    "_cell_guid": "d10bc03b-262c-7774-706e-f48e71e4da10"
   },
   "outputs": [
    {
     "name": "stdout",
     "output_type": "stream",
     "text": [
      "F value: 44.82304738928397\n",
      "P value: 1.0742616900812439e-14 \n",
      "\n"
     ]
    }
   ],
   "source": [
    "f, p = stats.f_oneway(sam_1, sam_2, sam_3 )\n",
    "print ('F value:', f)\n",
    "print ('P value:', p, '\\n')\n"
   ]
  },
  {
   "cell_type": "markdown",
   "metadata": {
    "_cell_guid": "1d785156-ace9-6d45-96fa-d8e2b61b7f77"
   },
   "source": [
    "\n",
    "P value is very low, hence null hypothesis is rejected \n"
   ]
  },
  {
   "cell_type": "code",
   "execution_count": 30,
   "metadata": {
    "_cell_guid": "a3f16fb0-75c6-e49c-4c90-31ee0f8e97be",
    "collapsed": true
   },
   "outputs": [],
   "source": []
  }
 ],
 "metadata": {
  "_change_revision": 6,
  "_is_fork": false,
  "kernelspec": {
   "display_name": "Python 3",
   "language": "python",
   "name": "python3"
  },
  "language_info": {
   "codemirror_mode": {
    "name": "ipython",
    "version": 3
   },
   "file_extension": ".py",
   "mimetype": "text/x-python",
   "name": "python",
   "nbconvert_exporter": "python",
   "pygments_lexer": "ipython3",
   "version": "3.9.5"
  }
 },
 "nbformat": 4,
 "nbformat_minor": 1
}
